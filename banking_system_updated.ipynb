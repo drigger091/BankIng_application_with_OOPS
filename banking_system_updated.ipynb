{
 "cells": [
  {
   "cell_type": "code",
   "execution_count": 13,
   "metadata": {},
   "outputs": [
    {
     "name": "stdout",
     "output_type": "stream",
     "text": [
      "1.Create Acount \n",
      " 2.Withdraw money \n",
      " 3.Deposit \n",
      " 4.Check Balance\n"
     ]
    },
    {
     "ename": "ValueError",
     "evalue": "invalid literal for int() with base 10: ''",
     "output_type": "error",
     "traceback": [
      "\u001b[1;31m---------------------------------------------------------------------------\u001b[0m",
      "\u001b[1;31mValueError\u001b[0m                                Traceback (most recent call last)",
      "\u001b[1;32m~\\AppData\\Local\\Temp/ipykernel_10320/972839794.py\u001b[0m in \u001b[0;36m<module>\u001b[1;34m\u001b[0m\n\u001b[0;32m      2\u001b[0m \u001b[1;33m\u001b[0m\u001b[0m\n\u001b[0;32m      3\u001b[0m \u001b[1;33m\u001b[0m\u001b[0m\n\u001b[1;32m----> 4\u001b[1;33m \u001b[1;32mclass\u001b[0m \u001b[0mBank\u001b[0m\u001b[1;33m(\u001b[0m\u001b[1;33m)\u001b[0m\u001b[1;33m:\u001b[0m\u001b[1;33m\u001b[0m\u001b[1;33m\u001b[0m\u001b[0m\n\u001b[0m\u001b[0;32m      5\u001b[0m \u001b[1;33m\u001b[0m\u001b[0m\n\u001b[0;32m      6\u001b[0m     \u001b[0maccount_no\u001b[0m \u001b[1;33m=\u001b[0m \u001b[1;36m0\u001b[0m\u001b[1;33m\u001b[0m\u001b[1;33m\u001b[0m\u001b[0m\n",
      "\u001b[1;32m~\\AppData\\Local\\Temp/ipykernel_10320/972839794.py\u001b[0m in \u001b[0;36mBank\u001b[1;34m()\u001b[0m\n\u001b[0;32m     68\u001b[0m     \u001b[0mprint\u001b[0m\u001b[1;33m(\u001b[0m\u001b[1;34m\"1.Create Acount \\n 2.Withdraw money \\n 3.Deposit \\n 4.Check Balance\"\u001b[0m\u001b[1;33m)\u001b[0m\u001b[1;33m\u001b[0m\u001b[1;33m\u001b[0m\u001b[0m\n\u001b[0;32m     69\u001b[0m \u001b[1;33m\u001b[0m\u001b[0m\n\u001b[1;32m---> 70\u001b[1;33m     \u001b[0mch\u001b[0m \u001b[1;33m=\u001b[0m \u001b[0mint\u001b[0m\u001b[1;33m(\u001b[0m\u001b[0minput\u001b[0m\u001b[1;33m(\u001b[0m\u001b[1;34m\"Select any option:\"\u001b[0m\u001b[1;33m)\u001b[0m\u001b[1;33m)\u001b[0m\u001b[1;33m\u001b[0m\u001b[1;33m\u001b[0m\u001b[0m\n\u001b[0m\u001b[0;32m     71\u001b[0m     \u001b[1;32mif\u001b[0m \u001b[1;33m(\u001b[0m\u001b[0mch\u001b[0m\u001b[1;33m==\u001b[0m\u001b[1;36m1\u001b[0m\u001b[1;33m)\u001b[0m\u001b[1;33m:\u001b[0m\u001b[1;33m\u001b[0m\u001b[1;33m\u001b[0m\u001b[0m\n\u001b[0;32m     72\u001b[0m         \u001b[0mcreate_acc\u001b[0m\u001b[1;33m(\u001b[0m\u001b[1;33m)\u001b[0m\u001b[1;33m\u001b[0m\u001b[1;33m\u001b[0m\u001b[0m\n",
      "\u001b[1;31mValueError\u001b[0m: invalid literal for int() with base 10: ''"
     ]
    }
   ],
   "source": [
    "#banking application\n",
    "\n",
    "\n",
    "class Bank():\n",
    "\n",
    "    account_no = 0\n",
    "    age = 0\n",
    "    Name = \" \"\n",
    "    Br_code = \" \"\n",
    "    Mobile = 0\n",
    "    Balance = 0\n",
    "    Gender = \" \"\n",
    "\n",
    "    user_list = []\n",
    "\n",
    "    def __init__(self,account_no,age,Name,Br_code,Mobile,Balance,Gender):\n",
    "\n",
    "        self.account_no = account_no\n",
    "        self.age = age\n",
    "        self.Name = Name \n",
    "        self.Br_code = Br_code\n",
    "        self.Mobile = Mobile\n",
    "        self.Balance = Balance\n",
    "        self.Gender = Gender\n",
    "\n",
    "        #storing user information in the list\n",
    "        Bank.user_list.append(self)\n",
    "\n",
    "    def create_acc():\n",
    "        account_no = int(input(\"Enter account number\"))\n",
    "        age = int(input(\"Please enter your age:\"))\n",
    "        Name = input(\"Enter your full name:\")\n",
    "        Mobile = int(input(\"Enter your mobile number\"))\n",
    "        Balance = int(input(\"How much money are you willing to start with?₹\"))\n",
    "        Gender = input(\"please state your gender:\")\n",
    "        Br_code = int(input(\"Enter the branch code:\"))\n",
    "\n",
    "\n",
    "    def show_acc_details(self):\n",
    "        print(\"Account holder details\")\n",
    "        print(\"Name\",self.Name)\n",
    "        print(\"Age\",self.Age)\n",
    "        print(\"Gender\",self.gender)\n",
    "        print(\"Branch_code\",self.Br_code)\n",
    "        print(\"Balance\",self.Balance)\n",
    "        \n",
    "\n",
    "    def checkbalance(self):\n",
    "        print(\"The current Balance is:₹\",self.Balance)\n",
    "    \n",
    "\n",
    "    def deposit(self,amount):\n",
    "        self.amount = amount\n",
    "        self.Balance = self.Balance + self.amount\n",
    "        checkbalance()\n",
    "\n",
    "    def withdraw(self ,amount):\n",
    "         self.amount = amount\n",
    "         self.Balance = self.Balance - self.amount\n",
    "         checkbalance()\n",
    "\n",
    "    \n",
    "\n",
    "    \n",
    "#___ Main Menu Screen___\n",
    "\n",
    "\n",
    "    print(\"1.Create Acount \\n 2.Withdraw money \\n 3.Deposit \\n 4.Check Balance\")\n",
    "\n",
    "    ch = int(input(\"Select any option:\"))\n",
    "    if (ch==1):\n",
    "        create_acc()\n",
    "    elif (ch==2):\n",
    "        amount = int(input(\"enter the amount to withdraw\"))\n",
    "        withdraw(amount)\n",
    "    elif (ch==3):\n",
    "        amount = int(input(\"enter the amount to deposit\"))\n",
    "        deposit(amount)\n",
    "    elif (ch==4):\n",
    "        checkbalance()\n",
    "    else:\n",
    "        print(\"please select any of the above options:\")\n",
    "        \n",
    "\n",
    "    \n",
    "\n",
    "\n",
    " \n",
    "\n",
    "\n",
    "\n",
    "\n"
   ]
  },
  {
   "cell_type": "code",
   "execution_count": null,
   "metadata": {},
   "outputs": [],
   "source": []
  }
 ],
 "metadata": {
  "kernelspec": {
   "display_name": "Python 3.9.7 ('base')",
   "language": "python",
   "name": "python3"
  },
  "language_info": {
   "codemirror_mode": {
    "name": "ipython",
    "version": 3
   },
   "file_extension": ".py",
   "mimetype": "text/x-python",
   "name": "python",
   "nbconvert_exporter": "python",
   "pygments_lexer": "ipython3",
   "version": "3.9.7"
  },
  "orig_nbformat": 4,
  "vscode": {
   "interpreter": {
    "hash": "c39ee6e24b83006eb386f86b08c4fd4839bfb2c807e17caea351eeccecc27516"
   }
  }
 },
 "nbformat": 4,
 "nbformat_minor": 2
}
