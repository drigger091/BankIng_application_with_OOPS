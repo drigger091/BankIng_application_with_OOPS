{
 "cells": [
  {
   "cell_type": "code",
   "execution_count": 1,
   "metadata": {},
   "outputs": [],
   "source": [
    "#Banking ystem using oop\n",
    "# Parent class = User\n",
    "# hold details of an user\n",
    "# have a function to show user details\n",
    "#child class = Bank\n",
    "#stores details about the amint balance\n",
    "#shows and displays details of the account\n",
    "#allows deposits ,withdrswals and balance"
   ]
  },
  {
   "cell_type": "code",
   "execution_count": 6,
   "metadata": {},
   "outputs": [
    {
     "name": "stdout",
     "output_type": "stream",
     "text": [
      "Personal Details\n",
      "Name John\n",
      "Age John\n",
      "Gender Male\n",
      "None\n",
      "[User('John',31,'Male'), User('Penny',29,'Female'), User('Rajesh',45,'Male'), User('Rohan',21,'Male'), User('Sarah',30,'Female')]\n"
     ]
    }
   ],
   "source": [
    "#Parent class\n",
    "\n",
    "class User():\n",
    "\n",
    "    user_list = []\n",
    "    def __init__(self,name ,age ,gender):\n",
    "        self.name = name\n",
    "        self.age = age\n",
    "        self.gender = gender\n",
    "\n",
    "        #to store the information entered on a list\n",
    "\n",
    "        User.user_list.append(self)\n",
    "\n",
    "\n",
    "    def show_user_details(self):\n",
    "        print(\"Personal Details\")\n",
    "        print(\"Name\",self.name)\n",
    "        print(\"Age\",self.name)\n",
    "        print(\"Gender\",self.gender)\n",
    "\n",
    "    #better represnetation of the user lists:\n",
    "    def __repr__(self):\n",
    "        return f\"User('{self.name}',{self.age},'{self.gender}')\"\n",
    "\n",
    "#creating users for the bank\n",
    "user1 = User(\"John\",31,\"Male\")\n",
    "user2 = User(\"Penny\",29,\"Female\")\n",
    "user3 = User(\"Rajesh\",45,\"Male\")\n",
    "user4 = User(\"Rohan\",21,\"Male\")\n",
    "user5 = User(\"Sarah\",30,\"Female\")\n",
    "\n",
    "print(user1.show_user_details())\n",
    "print(User.user_list)\n"
   ]
  },
  {
   "cell_type": "code",
   "execution_count": 3,
   "metadata": {},
   "outputs": [
    {
     "name": "stdout",
     "output_type": "stream",
     "text": [
      "Personal Details\n",
      "Name rajiv\n",
      "Age rajiv\n",
      "Gender male\n",
      "Account Balance has been updated :₹ 200\n"
     ]
    }
   ],
   "source": [
    "#creating a child class named bank from the aprent class\n",
    "\n",
    "\n",
    "\n",
    "class User():\n",
    "\n",
    "    user_list = []\n",
    "    def __init__(self,name ,age ,gender):\n",
    "        self.name = name\n",
    "        self.age = age\n",
    "        self.gender = gender\n",
    "\n",
    "        #to store the information entered on a list\n",
    "\n",
    "        User.user_list.append(self)\n",
    "\n",
    "\n",
    "    def show_user_details(self):\n",
    "        print(\"Personal Details\")\n",
    "        print(\"Name\",self.name)\n",
    "        print(\"Age\",self.name)\n",
    "        print(\"Gender\",self.gender)\n",
    "\n",
    "    #better represnetation of the user lists:\n",
    "    def __repr__(self):\n",
    "        return f\"User('{self.name}',{self.age},'{self.gender}')\"\n",
    "\n",
    "#creating users for the bank\n",
    "user1 = User(\"John\",31,\"Male\")\n",
    "user2 = User(\"Penny\",29,\"Female\")\n",
    "user3 = User(\"Rajesh\",45,\"Male\")\n",
    "user4 = User(\"Rohan\",21,\"Male\")\n",
    "user5 = User(\"Sarah\",30,\"Female\")\n",
    "\n",
    "#Child class\n",
    "\n",
    "class Bank(User):\n",
    "\n",
    "    def __init__(self, name, age, gender):\n",
    "        super().__init__(name, age, gender)\n",
    "        self.balance = 0\n",
    "        \n",
    "    def deposit(self,amount):\n",
    "        self.amount = amount\n",
    "        self.balance = self.balance + self.amount\n",
    "        print(\"Account Balance has been updated :₹\" ,self.balance)\n",
    "\n",
    "user5 = Bank(\"rajiv\",54,\"male\")\n",
    "user5.show_user_details()\n",
    "user5.deposit(200)\n",
    "\n",
    "\n",
    "\n",
    "\n",
    "\n"
   ]
  },
  {
   "cell_type": "code",
   "execution_count": null,
   "metadata": {},
   "outputs": [],
   "source": []
  }
 ],
 "metadata": {
  "kernelspec": {
   "display_name": "Python 3.10.6 64-bit (microsoft store)",
   "language": "python",
   "name": "python3"
  },
  "language_info": {
   "codemirror_mode": {
    "name": "ipython",
    "version": 3
   },
   "file_extension": ".py",
   "mimetype": "text/x-python",
   "name": "python",
   "nbconvert_exporter": "python",
   "pygments_lexer": "ipython3",
   "version": "3.10.6"
  },
  "orig_nbformat": 4,
  "vscode": {
   "interpreter": {
    "hash": "00ab0c96a4010d88df09b2badbfa6c7366287254f707ccc0dc2e798515ac13e8"
   }
  }
 },
 "nbformat": 4,
 "nbformat_minor": 2
}
